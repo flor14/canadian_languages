{
 "cells": [
  {
   "cell_type": "code",
   "execution_count": null,
   "id": "8cc66044-3b8d-4b72-bb82-8078ec6dc744",
   "metadata": {},
   "outputs": [],
   "source": [
    "dfsfsdfsfd"
   ]
  },
  {
   "cell_type": "code",
   "execution_count": null,
   "id": "9845c02a-7c3a-45e9-b48e-ee5e13a4e495",
   "metadata": {},
   "outputs": [],
   "source": []
  },
  {
   "cell_type": "code",
   "execution_count": null,
   "id": "cd9990e2-7b91-4cdf-988e-7c223ebc7cd8",
   "metadata": {},
   "outputs": [],
   "source": [
    "xccvcvxc"
   ]
  },
  {
   "cell_type": "code",
   "execution_count": null,
   "id": "f08b68c1-fea1-4d97-87a3-ac01b245773b",
   "metadata": {},
   "outputs": [],
   "source": [
    " fffd"
   ]
  }
 ],
 "metadata": {
  "kernelspec": {
   "display_name": "Python 3 (ipykernel)",
   "language": "python",
   "name": "python3"
  },
  "language_info": {
   "codemirror_mode": {
    "name": "ipython",
    "version": 3
   },
   "file_extension": ".py",
   "mimetype": "text/x-python",
   "name": "python",
   "nbconvert_exporter": "python",
   "pygments_lexer": "ipython3",
   "version": "3.9.9"
  }
 },
 "nbformat": 4,
 "nbformat_minor": 5
}
