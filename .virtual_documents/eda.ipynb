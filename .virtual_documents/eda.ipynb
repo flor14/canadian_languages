import pandas as pd
import altair as alt



can_lang = pd.read_csv("https://raw.githubusercontent.com/ttimbers/canlang/master/inst/extdata/can_lang.csv")

alt.Chart(can_lang).mark_point().encode(
    x = alt.X('most_at_work',
        scale=alt.Scale(type="symlog")),
    y = alt.Y('most_at_home',
        scale=alt.Scale(type="symlog")),
    color = 'category',
)





